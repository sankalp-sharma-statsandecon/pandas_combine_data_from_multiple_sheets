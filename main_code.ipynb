{
  "nbformat": 4,
  "nbformat_minor": 0,
  "metadata": {
    "colab": {
      "name": "landandpoverty.ipynb",
      "provenance": [],
      "collapsed_sections": [],
      "authorship_tag": "ABX9TyPjRTEPMAlkHhTUiL/TfNS2",
      "include_colab_link": true
    },
    "kernelspec": {
      "name": "python3",
      "display_name": "Python 3"
    },
    "language_info": {
      "name": "python"
    }
  },
  "cells": [
    {
      "cell_type": "markdown",
      "metadata": {
        "id": "view-in-github",
        "colab_type": "text"
      },
      "source": [
        "<a href=\"https://colab.research.google.com/github/sankalp-sharma-statsandecon/pandas_combine_data_from_multiple_sheets/blob/main/main_code.ipynb\" target=\"_parent\"><img src=\"https://colab.research.google.com/assets/colab-badge.svg\" alt=\"Open In Colab\"/></a>"
      ]
    },
    {
      "cell_type": "code",
      "metadata": {
        "id": "BB6OIqDyz7fA"
      },
      "source": [
        "import pandas as pd\n",
        "xl = pd.ExcelFile('datamain.xls')\n",
        "xl.sheet_names\n",
        "df = xl.parse('AL')"
      ],
      "execution_count": 20,
      "outputs": []
    },
    {
      "cell_type": "code",
      "metadata": {
        "id": "wdp6neaPa9hn"
      },
      "source": [
        "state_names = xl.sheet_names[:51]\n",
        "dfs = {name: xl.parse(name) for name in state_names}"
      ],
      "execution_count": 90,
      "outputs": []
    },
    {
      "cell_type": "code",
      "metadata": {
        "id": "6PW9bfUmiBVe"
      },
      "source": [
        "dict_df = []\n",
        "for i in state_names:\n",
        "  df = dfs[i]\n",
        "  new_header = df.loc[0].combine_first(df.loc[1])\n",
        "  df.columns = new_header\n",
        "  df = df[2:]\n",
        "  df2 = df[:len(df)-2]\n",
        "  dict_df.append(df2)"
      ],
      "execution_count": 91,
      "outputs": []
    },
    {
      "cell_type": "code",
      "metadata": {
        "colab": {
          "base_uri": "https://localhost:8080/"
        },
        "id": "FxV8SxKJsLlZ",
        "outputId": "ea44442b-9889-4c39-996e-186da9fbd17e"
      },
      "source": [
        "#df.iloc[:, 0:2]\n",
        "df_main = pd.concat(dict_df).iloc[:,0:8]\n",
        "df_main.columns"
      ],
      "execution_count": 106,
      "outputs": [
        {
          "output_type": "execute_result",
          "data": {
            "text/plain": [
              "Index(['County Fip', 'County', 'Average House Value',\n",
              "       'Average Real EstateTaxes', 'Average RET Rate Per $1,000 of Value*',\n",
              "       'Lowest Tract ', 'Highest Tract', 'High-Low Ratio'],\n",
              "      dtype='object')"
            ]
          },
          "metadata": {},
          "execution_count": 106
        }
      ]
    },
    {
      "cell_type": "code",
      "metadata": {
        "id": "5X43DvzT05G_"
      },
      "source": [
        "#df_final.columns.tolist()\n",
        "df_final = pd.concat([df_main, df_main['County'].str.split(', ', expand=True)], axis = 1).drop('County', 1).rename(columns = {0:\"county\",1:\"state\"})\n",
        "df_final = df_final[['County Fip',\n",
        "                     'county',\n",
        "                     'state',\n",
        "                     'Average House Value',\n",
        "                     'Average Real EstateTaxes',\n",
        "                     'Average RET Rate Per $1,000 of Value*',\n",
        "                     'Lowest Tract ',\n",
        "                     'Highest Tract',\n",
        "                     'High-Low Ratio']]"
      ],
      "execution_count": 132,
      "outputs": []
    },
    {
      "cell_type": "code",
      "metadata": {
        "colab": {
          "base_uri": "https://localhost:8080/"
        },
        "id": "eMfT6SVKyAC2",
        "outputId": "d368f50c-5501-42ec-c583-cffc739acfff"
      },
      "source": [
        "from google.colab import drive\n",
        "drive.mount('drive')"
      ],
      "execution_count": 103,
      "outputs": [
        {
          "output_type": "stream",
          "name": "stdout",
          "text": [
            "Mounted at drive\n"
          ]
        }
      ]
    },
    {
      "cell_type": "code",
      "metadata": {
        "id": "l7s7Tc69yw_S"
      },
      "source": [
        "df_final.to_csv('datacomplete_final.csv',index = False) \n",
        "!cp datacomplete_final.csv \"drive/My Drive/\""
      ],
      "execution_count": 134,
      "outputs": []
    },
    {
      "cell_type": "code",
      "metadata": {
        "id": "JTn6oih30Hvo",
        "colab": {
          "base_uri": "https://localhost:8080/"
        },
        "outputId": "43f90aa6-081c-482f-90f8-5f6fa676b137"
      },
      "source": [
        "%pwd\n",
        "%cd /content/sample_data/"
      ],
      "execution_count": 8,
      "outputs": [
        {
          "output_type": "stream",
          "name": "stdout",
          "text": [
            "/content/sample_data\n"
          ]
        }
      ]
    }
  ]
}